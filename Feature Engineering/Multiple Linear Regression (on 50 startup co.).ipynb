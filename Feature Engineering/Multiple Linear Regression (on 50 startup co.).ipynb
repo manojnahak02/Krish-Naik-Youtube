# -*- coding: utf-8 -*-
"""
Created on Fri Dec 20 23:08:44 2019

@author: Manoj Nahak
"""

# Multiple Linear Regression

# Importing the libraries
import numpy as np
import matplotlib.pyplot as plt
import pandas as pd

# Importing the dataset
dataset = pd.read_csv('50_Startups.csv')
X = dataset.iloc[:, :-1] #except the last column, all other columns have been taken
y = dataset.iloc[:, 4] #only the last column is been taken

#Convert the column into categorical columns

states=pd.get_dummies(X['State'],drop_first=True)#get_dummies used to create dummy variables
#under one-hot-encoding

# Drop the state coulmn
X=X.drop('State',axis=1)

# concat the dummy variables
X=pd.concat([X,states],axis=1)



# Splitting the dataset into the Training set and Test set
from sklearn.model_selection import train_test_split
X_train, X_test, Y_train, Y_test = train_test_split(X, Y, test_size = 0.2, random_state = 0)

# Fitting Multiple Linear Regression to the Training set
from sklearn.linear_model import LinearRegression
regressor = LinearRegression()
regressor.fit(X_train, Y_train)

# Predicting the Test set results
y_pred = regressor.predict(X_test)

from sklearn.metrics import r2_score
score=r2_score(Y_test,Y_pred)